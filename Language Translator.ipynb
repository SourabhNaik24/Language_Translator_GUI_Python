{
 "cells": [
  {
   "cell_type": "code",
   "execution_count": 1,
   "metadata": {},
   "outputs": [],
   "source": [
    "import tkinter as tk\n",
    "from googletrans import Translator"
   ]
  },
  {
   "cell_type": "code",
   "execution_count": 2,
   "metadata": {},
   "outputs": [],
   "source": [
    "def translation():\n",
    "    word = entry.get()\n",
    "    translator = Translator(service_urls = [\"translate.google.com\"])\n",
    "    translation = translator.translate( word ,dest = 'de')\n",
    "    label1 = tk.Label(wnd, text = f'Translated word: {translation.text}',bg = \"yellow\")\n",
    "    label1.grid(row = 2, column =0)"
   ]
  },
  {
   "cell_type": "code",
   "execution_count": null,
   "metadata": {},
   "outputs": [],
   "source": [
    "wnd = tk.Tk()\n",
    "wnd.title(\"TRANSLATOR\")\n",
    "wnd.geometry(\"200x70\")\n",
    "\n",
    "label = tk.Label(wnd,text = 'Write Here :')\n",
    "label.grid(row = 0, column = 0)\n",
    "\n",
    "entry = tk.Entry(wnd)\n",
    "entry.grid(row = 1, column = 0)\n",
    "\n",
    "button = tk.Button(wnd, text ='Go',command = translation)\n",
    "button.grid(row = 1, column = 1)\n",
    "\n",
    "wnd.mainloop()"
   ]
  },
  {
   "cell_type": "code",
   "execution_count": null,
   "metadata": {},
   "outputs": [],
   "source": []
  }
 ],
 "metadata": {
  "kernelspec": {
   "display_name": "Python 3",
   "language": "python",
   "name": "python3"
  },
  "language_info": {
   "codemirror_mode": {
    "name": "ipython",
    "version": 3
   },
   "file_extension": ".py",
   "mimetype": "text/x-python",
   "name": "python",
   "nbconvert_exporter": "python",
   "pygments_lexer": "ipython3",
   "version": "3.7.1"
  }
 },
 "nbformat": 4,
 "nbformat_minor": 2
}
